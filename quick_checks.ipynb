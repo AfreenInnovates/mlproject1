{
 "cells": [
  {
   "cell_type": "code",
   "execution_count": 1,
   "id": "f3dca713",
   "metadata": {},
   "outputs": [
    {
     "data": {
      "image/png": "[encoded data removed]",
      "text/plain": [
       "<Figure size 640x480 with 2 Axes>"
      ]
     },
     "metadata": {},
     "output_type": "display_data"
    }
   ],
   "source": [
    "import json, numpy as np, pickle\n",
    "from sklearn.metrics import confusion_matrix, ConfusionMatrixDisplay\n",
    "import matplotlib.pyplot as plt\n",
    "\n",
    "r = json.load(open(\"artifact/model_report.json\"))\n",
    "y_true = np.array([int(x) for x in r[\"classification_report\"][\"true_labels\"]]) if \"true_labels\" in r[\"classification_report\"] else None\n",
    "\n",
    "import pandas as pd\n",
    "from src.components.data_transformation import DataTransformation\n",
    "\n",
    "pre = pickle.load(open(\"artifact/preprocessor.pkl\",\"rb\"))\n",
    "model = pickle.load(open(\"artifact/model.pkl\",\"rb\"))\n",
    "test = pd.read_csv(\"artifact/test.csv\")\n",
    "y = test[\"GradeClass\"].astype(int).values\n",
    "X = test.drop(columns=[\"GradeClass\",\"StudentID\"], errors=\"ignore\")\n",
    "X_tr = pre.transform(X)\n",
    "y_pred = model.predict(X_tr)\n",
    "\n",
    "cm = confusion_matrix(y, y_pred, labels=[0,1,2,3,4])\n",
    "disp = ConfusionMatrixDisplay(confusion_matrix=cm, display_labels=[0,1,2,3,4])\n",
    "disp.plot(values_format=\"d\")\n",
    "plt.tight_layout(); plt.show()\n"
   ]
  },
  {
   "cell_type": "code",
   "execution_count": 1,
   "id": "dfb4cd24",
   "metadata": {},
   "outputs": [
    {
     "name": "stdout",
     "output_type": "stream",
     "text": [
      "GPA                                       0.9863\n",
      "StudyTimeWeekly                           0.0070\n",
      "Absences                                  0.0030\n",
      "ParentalEducation_3                       0.0004\n",
      "ParentalSupport_2                         0.0004\n",
      "Ethnicity_3                               0.0003\n",
      "Ethnicity_0                               0.0003\n",
      "Gender_1                                  0.0002\n",
      "Ethnicity_2                               0.0002\n",
      "ParentalSupport_4                         0.0002\n",
      "ParentalSupport_3                         0.0002\n",
      "Age                                       0.0002\n",
      "Gender_0                                  0.0002\n",
      "ParentalEducation_4                       0.0002\n",
      "ParentalEducation_2                       0.0001\n",
      "Music_0                                   0.0001\n",
      "Music_1                                   0.0001\n",
      "ParentalEducation_0                       0.0001\n",
      "Sports_0                                  0.0001\n",
      "Tutoring_0                                0.0001\n"
     ]
    }
   ],
   "source": [
    "import pickle, numpy as np\n",
    "pre = pickle.load(open(\"artifact/preprocessor.pkl\",\"rb\"))\n",
    "model = pickle.load(open(\"artifact/model.pkl\",\"rb\"))\n",
    "\n",
    "num_cols = pre.transformers_[0][2] \n",
    "cat_cols = pre.transformers_[1][2] \n",
    "ohe = pre.named_transformers_[\"cat\"].named_steps[\"onehot\"]\n",
    "ohe_names = ohe.get_feature_names_out(cat_cols)\n",
    "feature_names = np.r_[num_cols, ohe_names]\n",
    "\n",
    "importances = getattr(model, \"feature_importances_\", None)\n",
    "if importances is not None:\n",
    "    top_idx = np.argsort(importances)[::-1][:20]\n",
    "    for i in top_idx:\n",
    "        print(f\"{feature_names[i]:40s}  {importances[i]:.4f}\")\n",
    "else:\n",
    "    print(\"Model has no feature_importances_ (skip for non-tree models).\")\n"
   ]
  },
  {
   "cell_type": "code",
   "execution_count": 2,
   "id": "97662ca9",
   "metadata": {},
   "outputs": [
    {
     "name": "stdout",
     "output_type": "stream",
     "text": [
      "1\n"
     ]
    }
   ],
   "source": [
    "import pickle, pandas as pd\n",
    "\n",
    "pre = pickle.load(open(\"artifact/preprocessor.pkl\",\"rb\"))\n",
    "model = pickle.load(open(\"artifact/model.pkl\",\"rb\"))\n",
    "\n",
    "def predict_one(sample: dict):\n",
    "    X = pd.DataFrame([sample])\n",
    "    X_tr = pre.transform(X)\n",
    "    y_pred = model.predict(X_tr)\n",
    "    return int(y_pred[0])\n",
    "\n",
    "row = {\n",
    "    \"Age\": 17, \"StudyTimeWeekly\": 8, \"Absences\": 3, \"GPA\": 3.4,\n",
    "    \"Gender\": \"F\", \"Ethnicity\": \"GroupA\", \"ParentalEducation\": \"Bachelors\",\n",
    "    \"Tutoring\": \"Yes\", \"ParentalSupport\": \"High\", \"Extracurricular\": \"Yes\",\n",
    "    \"Sports\": \"No\", \"Music\": \"Yes\", \"Volunteering\": \"No\"\n",
    "}\n",
    "print(predict_one(row))\n"
   ]
  },
  {
   "cell_type": "code",
   "execution_count": null,
   "id": "2465d1a1",
   "metadata": {},
   "outputs": [],
   "source": []
  }
 ],
 "metadata": {
  "kernelspec": {
   "display_name": ".venv",
   "language": "python",
   "name": "python3"
  },
  "language_info": {
   "codemirror_mode": {
    "name": "ipython",
    "version": 3
   },
   "file_extension": ".py",
   "mimetype": "text/x-python",
   "name": "python",
   "nbconvert_exporter": "python",
   "pygments_lexer": "ipython3",
   "version": "3.13.1"
  }
 },
 "nbformat": 4,
 "nbformat_minor": 5
}